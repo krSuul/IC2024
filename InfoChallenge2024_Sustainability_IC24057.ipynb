{
  "nbformat": 4,
  "nbformat_minor": 0,
  "metadata": {
    "colab": {
      "provenance": []
    },
    "kernelspec": {
      "name": "python3",
      "display_name": "Python 3"
    },
    "language_info": {
      "name": "python"
    }
  },
  "cells": [
    {
      "cell_type": "markdown",
      "source": [
        "# Info Challenge 2024 - Sustainability Datset\n",
        "By Ryan Kim, Ryan Deppe & Maria Lanasa\n",
        "\\\n",
        "2/24/2024\n",
        "\n",
        "## Introduction\n",
        "The challenge being presented is dealing with GreenTerp's data set dealing with\n",
        "\n",
        "* academic year info is from AY2018-2019 to AY2022-2023\n",
        "* student can submit anually, students can register once and be done with it, but to be certified you have to verify certification annually\n",
        "* There are edge cases where people have certified without registering, and those are the red flags we are looking for\n",
        "* registration and certification requirements change over time\n",
        "* all data is self reported\n",
        "\n",
        "## Question:\n",
        "\n",
        "Our team is concerned with the trends following the data of GreenTerp's submission forms. In detail, we are looking for trends in data on a yearly basis to see if there any concerning processes and analyzing how to improve said processes. Additionally, based on said trends are we able to recommend GreenTerp with what to do for the present and future?\n",
        "\n",
        "\\\n",
        "Thus we are concerned with the following:\n",
        "\n",
        "*   How likely are people who register to certify (the conversion rate)? What are the yearly conversion rates?\n",
        "*   How many members are 'red flags'? On average, how many red flags are seen on yearly basis?\n",
        "\n",
        "\n"
      ],
      "metadata": {
        "id": "Jz1xqwymwOQM"
      }
    },
    {
      "cell_type": "markdown",
      "source": [
        "## Dictionary & Brief Explanation of Process\n",
        "'Red flag' - people who submit certification forms but have never registered\n",
        "\\\n",
        "Registration - registration forms to join GreenTerp\n",
        "\\\n",
        "Certification - certificating to receive a reward\n",
        "\n",
        "\n",
        "GreenTerp processes forms through a Google spreadsheet where each form is either a registration form or a certification form. Registration forms allow a person to join the GreenTerp's club while the certification form allows a person to be elgible for a prize granted that they follow the guidelines for certification. Typically, a person is supposed"
      ],
      "metadata": {
        "id": "WKm4DqOFAy_i"
      }
    },
    {
      "cell_type": "markdown",
      "source": [
        "## Methods\n",
        "Firstly we look to import necessary libraries to utilize the data in an efficent manner, our team utilzied Python and R to parse through data, and analyze said data into presentable formats."
      ],
      "metadata": {
        "id": "dSiA6FjnXvI9"
      }
    },
    {
      "cell_type": "code",
      "source": [
        "import numpy as np\n",
        "from collections import Counter\n",
        "from google.colab import drive\n",
        "drive.mount('/content/drive')\n"
      ],
      "metadata": {
        "colab": {
          "base_uri": "https://localhost:8080/"
        },
        "id": "JWeEIB3b10SN",
        "outputId": "ce9fa1a1-0799-4dc2-c94e-6b7660ae54f8"
      },
      "execution_count": null,
      "outputs": [
        {
          "output_type": "stream",
          "name": "stdout",
          "text": [
            "Mounted at /content/drive\n"
          ]
        }
      ]
    },
    {
      "cell_type": "markdown",
      "source": [
        "### What is the conversion rate from registration to certification?\n",
        "\n",
        "To answer this question, the equation we are using is\n",
        "\n",
        "```\n",
        "conversion_rate = (# of certification forms)/(# of registered forms)\n",
        "```\n",
        "Keep in mind that this does not exclude 'red flags' as stated previously; people who have certified first and never registered to begin with."
      ],
      "metadata": {
        "id": "gtABaz9bClpu"
      }
    },
    {
      "cell_type": "code",
      "source": [
        "# Loading an array of all form types\n",
        "allForms = np.loadtxt('/content/drive/MyDrive/Info Challenge 2024/Data_Level3_GreenTerp - Cleaned.csv', skiprows=1, usecols=2, delimiter=',',dtype=object)\n",
        "certified = []\n",
        "registered = []\n",
        "\n",
        "#Finding all of the locations in the spreadsheet where it is a registration or a certification form\n",
        "for x in range(0,len(allForms)):\n",
        "  if allForms[x] == 'Certification':\n",
        "    certified.append(x)\n",
        "  elif allForms[x] == 'Registration':\n",
        "    registered.append(x)\n",
        "\n",
        "print(f'Conversion rate of registered to certified is {len(certified)/len(registered)*100}%')\n"
      ],
      "metadata": {
        "colab": {
          "base_uri": "https://localhost:8080/"
        },
        "id": "N21BSl022Lh1",
        "outputId": "c75f7a41-6c59-4df4-f05a-7569d3106f63"
      },
      "execution_count": null,
      "outputs": [
        {
          "output_type": "stream",
          "name": "stdout",
          "text": [
            "Conversion rate of registered to certified is 46.502331778814124%\n"
          ]
        }
      ]
    },
    {
      "cell_type": "markdown",
      "source": [
        "But is there human error at play? Could someone register/certify twice in a year causing the numbers to look much more worse? Additionally, people need to certify year after year, so we need to find the number of unique certifications versus unique registrations."
      ],
      "metadata": {
        "id": "HBFrgzKzG2gH"
      }
    },
    {
      "cell_type": "code",
      "source": [
        "#Loading student's IDs\n",
        "ids = np.loadtxt('/content/drive/MyDrive/Info Challenge 2024/Data_Level3_GreenTerp - Cleaned.csv', skiprows=1, usecols=9, delimiter=',',dtype=object)\n",
        "\n",
        "# Creating a dictionary of ID to form type Key:value pairs, ID: [# of registrations, # of certifications]\n",
        "id_form = dict()\n",
        "\n",
        "# A function that changes a dictionary's value pairs based on the key\n",
        "def changeDict(loc, dic):\n",
        "  if loc in certified:\n",
        "    dic[ids[loc]][1] +=1\n",
        "  else:\n",
        "    dic[ids[loc]][0] +=1\n",
        "  return dic\n",
        "\n",
        "# Now we parse through the dataset to assign each ID a conversion rate\n",
        "for x in range(0,len(ids)):\n",
        "  if ids[x] in id_form.keys():\n",
        "    id_form = changeDict(x,id_form)\n",
        "  else:\n",
        "    id_form[ids[x]] = [0,0]\n",
        "    id_form = changeDict(x,id_form)\n",
        "\n",
        "\n",
        "# Now finding the number of unique registrations and unique certifications\n",
        "def findRegAndCerts(dSet):\n",
        "  num_reg = 0\n",
        "  num_cert = 0\n",
        "  for id in dSet.keys():\n",
        "    if id_form[id][0] >= 1:\n",
        "      num_reg+=1\n",
        "\n",
        "    if dSet[id][1] >= 1:\n",
        "      num_cert +=1\n",
        "  return [num_reg,num_cert]\n",
        "\n",
        "regOrCert = findRegAndCerts(id_form)\n",
        "print(f'The unique conversion rate from registering to certifying is {regOrCert[1]/regOrCert[0]*100}%')"
      ],
      "metadata": {
        "colab": {
          "base_uri": "https://localhost:8080/"
        },
        "id": "3WfJtl18G1u8",
        "outputId": "ff96c6dc-e575-4bd3-820f-6912c5e18ed7"
      },
      "execution_count": null,
      "outputs": [
        {
          "output_type": "stream",
          "name": "stdout",
          "text": [
            "The unique conversion rate from registering to certifying is 48.495200911013505%\n"
          ]
        }
      ]
    },
    {
      "cell_type": "markdown",
      "source": [
        "We can see that the conversion rate has increased than before, showcasing the impact of human error on given data. However we have to conversion\n",
        "### What are the yearly conversion rates?\n",
        "Now we do the same as before, but now seperate it based on what year the forms were submitted. \\\n",
        "As stated before we are concerned with the following years:\n",
        "\n",
        "\n",
        "*   2018-2019\n",
        "*   2019-2020\n",
        "* 2021-2022\n",
        "* 2022-2023\n",
        "\n"
      ],
      "metadata": {
        "id": "0J1ZpqAVYRdt"
      }
    },
    {
      "cell_type": "code",
      "source": [
        "# Intializing variables, again it's a dictionary with a key:value pair of ID : list[# of registrations, # of certifications]\n",
        "y2018 = dict()\n",
        "y2019 = dict()\n",
        "y2021 = dict()\n",
        "y2022 = dict()\n",
        "\n",
        "# Finding year indexes\n",
        "years = np.loadtxt('/content/drive/MyDrive/Info Challenge 2024/Data_Level3_GreenTerp - Cleaned.csv', skiprows=1, usecols=0, delimiter=',',dtype=object)\n",
        "yearIndex = [0]\n",
        "for x in range(1,len(years)-1):\n",
        "  if years[x] != years[x+1]:\n",
        "    yearIndex.append(x+1)\n",
        "\n",
        "yearIndex.append(len(years)-1)\n",
        "\n",
        "# Function to go through each year\n",
        "def yearAdd(yearDict, index):\n",
        "\n",
        "  for x in range (yearIndex[index],yearIndex[index+1]+1):\n",
        "    if ids[x] in yearDict.keys():\n",
        "      yearDict = changeDict(x,yearDict)\n",
        "    else:\n",
        "      yearDict[ids[x]] = [0,0]\n",
        "      yearDict = changeDict(x,yearDict)\n",
        "\n",
        "  return yearDict\n",
        "\n",
        "# Adding all of the values to the dictionary\n",
        "y2018 = yearAdd(y2018,3)\n",
        "y2019 = yearAdd(y2019,2)\n",
        "y2021 = yearAdd(y2021,1)\n",
        "y2022 = yearAdd(y2022, 0)"
      ],
      "metadata": {
        "id": "pvTQO-luZK12"
      },
      "execution_count": null,
      "outputs": []
    },
    {
      "cell_type": "markdown",
      "source": [
        "Now we can try looking for the yearly conversion rates."
      ],
      "metadata": {
        "id": "WjaLgB2ev5LG"
      }
    },
    {
      "cell_type": "code",
      "source": [
        "y18 = findRegAndCerts(y2018)\n",
        "y19 = findRegAndCerts(y2019)\n",
        "y21 = findRegAndCerts(y2021)\n",
        "y22 = findRegAndCerts(y2022)\n",
        "\n",
        "#Printing all conversion rates\n",
        "print(f'The conversion rate from registering to certifying in 2018-2019 was {y18[1]/y18[0]*100}% with {y18[1]} certifications and {y18[0]} registrations')\n",
        "print(f'The conversion rate from registering to certifying in 2019-2020 was {y19[1]/y19[0]*100}% with {y19[1]} certifications and {y19[0]} registrations')\n",
        "print(f'The conversion rate from registering to certifying in 2021-2022 was {y21[1]/y21[0]*100}% with {y21[1]} certifications and {y21[0]} registrations')\n",
        "print(f'The conversion rate from registering to certifying in 2022-2023 was {y22[1]/y22[0]*100}% with {y22[1]} certifications and {y22[0]} registrations')"
      ],
      "metadata": {
        "colab": {
          "base_uri": "https://localhost:8080/"
        },
        "id": "3SaACI6Xv8yH",
        "outputId": "1244c1e5-ab8e-4355-9a9d-4db861e4e570"
      },
      "execution_count": null,
      "outputs": [
        {
          "output_type": "stream",
          "name": "stdout",
          "text": [
            "The conversion rate from registering to certifying in 2018-2019 was 49.60691823899371% with 1262 certifications and 2544 registrations\n",
            "The conversion rate from registering to certifying in 2019-2020 was 44.52415112386418% with 931 certifications and 2091 registrations\n",
            "The conversion rate from registering to certifying in 2021-2022 was 50.93765838824126% with 1005 certifications and 1973 registrations\n",
            "The conversion rate from registering to certifying in 2022-2023 was 19.50718685831622% with 95 certifications and 487 registrations\n"
          ]
        }
      ]
    },
    {
      "cell_type": "markdown",
      "source": [
        "But what about the conversion rate for new members who register and certify within the year? \\\n",
        "What about accounting for 'red flags' that don't register and only certified?"
      ],
      "metadata": {
        "id": "Lb3P78GB7Aa9"
      }
    },
    {
      "cell_type": "code",
      "source": [
        "#Finding all instances of IDs that register and certify within the year\n",
        "#Also removes 'red flags'\n",
        "def findUnique(idDict):\n",
        "  numReg = 0\n",
        "  numCert = 0\n",
        "  for id in idDict:\n",
        "    if idDict[id][0] >= 1:\n",
        "      numReg += 1\n",
        "      if idDict[id][1] >= 1:\n",
        "        numCert +=1\n",
        "  return [numReg,numCert]\n",
        "\n",
        "y18 = findUnique(y2018)\n",
        "y19 = findUnique(y2019)\n",
        "y21 = findUnique(y2021)\n",
        "y22 = findUnique(y2022)\n",
        "\n",
        "print(f'The conversion rate from registering to certifying within 2018-2019 was {y18[1]/y18[0]*100}% with {y18[1]} certifications and {y18[0]} registrations')\n",
        "print(f'The conversion rate from registering to certifying within 2019-2020 was {y19[1]/y19[0]*100}% with {y19[1]} certifications and {y19[0]} registrations')\n",
        "print(f'The conversion rate from registering to certifying within 2021-2022 was {y21[1]/y21[0]*100}% with {y21[1]} certifications and {y21[0]} registrations')\n",
        "print(f'The conversion rate from registering to certifying within 2022-2023 was {y22[1]/y22[0]*100}% with {y22[1]} certifications and {y22[0]} registrations')"
      ],
      "metadata": {
        "colab": {
          "base_uri": "https://localhost:8080/"
        },
        "id": "s2cU8uCM8AQQ",
        "outputId": "05b2d88e-ed22-4d9a-949d-efe8800f612a"
      },
      "execution_count": null,
      "outputs": [
        {
          "output_type": "stream",
          "name": "stdout",
          "text": [
            "The conversion rate from registering to certifying within 2018-2019 was 41.914722445695894% with 1042 certifications and 2486 registrations\n",
            "The conversion rate from registering to certifying within 2019-2020 was 44.52415112386418% with 931 certifications and 2091 registrations\n",
            "The conversion rate from registering to certifying within 2021-2022 was 38.883034773445736% with 738 certifications and 1898 registrations\n",
            "The conversion rate from registering to certifying within 2022-2023 was 9.782608695652174% with 45 certifications and 460 registrations\n"
          ]
        }
      ]
    },
    {
      "cell_type": "markdown",
      "source": [
        "With the conversion rate having an average of `48.495200911013505%` over the entire dataset, the fluctuations in the conversion rates for the years up to 2021 were around the average. However we see a steep decline in year 2023, with a outlier of a conversion rate of `19.50718685831622%`. Keep in mind that the team was told that the dataset was from November of 2023, meaning that the 2022-2023 season had fully concluded by that point.\n",
        "\n",
        "Additionally from the results, we see that while in past years GreenTerp's registrations have been around the 2000 member mark and about 1000 certifications, in the year 2022-2023 we see only 487 registrations and 95 certifications.\n",
        "\n",
        "\n",
        "Even after looking at only new member data and accounting for 'red flags', we still find that there has been a concerning decrease in both registered and certified members in 2023-2023.\n",
        "\n",
        "\n"
      ],
      "metadata": {
        "id": "03VPirAs2iG0"
      }
    },
    {
      "cell_type": "markdown",
      "source": [
        "### How many 'red flags' are really there?\n",
        "'Red flags' are people who have only certified and never have registered over a time span from 2019-2023, to find this type of person within the data set is fairly simple: find a list of people who have certified and compare it to those who have registered, if a person who is certified is not registered, they are a 'red flag'."
      ],
      "metadata": {
        "id": "ZGyms5ZZDp04"
      }
    },
    {
      "cell_type": "code",
      "source": [
        "#Checking dictionary to find people who are certified but not registered\n",
        "redflags = list()\n",
        "for id in id_form:\n",
        "  if id_form[id][1] >= 1 and id_form[id][0] == 0:\n",
        "    redflags.append(id)\n",
        "\n",
        "print(f'Number of red flags: {len(redflags)}\\nNumber of unique members: {len(id_form)}')\n",
        "print(f'Percentage of all unique members who are considered as red flags {len(redflags)/len(id_form)*100}%')"
      ],
      "metadata": {
        "colab": {
          "base_uri": "https://localhost:8080/"
        },
        "id": "LL1gDzhs3Szj",
        "outputId": "3e919fdf-e252-4b47-c192-da150995b0a1"
      },
      "execution_count": null,
      "outputs": [
        {
          "output_type": "stream",
          "name": "stdout",
          "text": [
            "Number of red flags: 375\n",
            "Number of unique members: 6522\n",
            "Percentage of all unique members who are considered as red flags 5.749770009199632%\n"
          ]
        }
      ]
    }
  ]
}